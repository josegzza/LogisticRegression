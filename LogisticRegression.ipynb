{
  "nbformat": 4,
  "nbformat_minor": 0,
  "metadata": {
    "colab": {
      "name": "LogisticRegression.ipynb",
      "provenance": [],
      "collapsed_sections": []
    },
    "kernelspec": {
      "display_name": "Python 3",
      "name": "python3"
    }
  },
  "cells": [
    {
      "cell_type": "markdown",
      "metadata": {
        "id": "J5yow3N2nkjK"
      },
      "source": [
        "# Logistic Regression\n",
        "Jose Alberto Gonzalez Arteaga A01038061\n",
        "\n"
      ]
    },
    {
      "cell_type": "code",
      "metadata": {
        "id": "QDI62M9_nUwm"
      },
      "source": [
        "#imports\n",
        "import pandas as pd\n",
        "import numpy as np\n",
        "import matplotlib.pyplot as plt\n",
        "from sklearn.model_selection import train_test_split\n",
        "from scipy.spatial import distance\n",
        "from sklearn.linear_model import LogisticRegression"
      ],
      "execution_count": 479,
      "outputs": []
    },
    {
      "cell_type": "code",
      "metadata": {
        "id": "2HEZSG817_uL"
      },
      "source": [
        "#Batch Gradient Descent Algorithm\n",
        "def sigmoid(x):\n",
        "  return 1.0 / (1 + np.exp(-x))\n",
        "\n",
        "def lr_hypothesis(x, theta):\n",
        "  return np.dot(x,theta)\n",
        "\n",
        "#return hb_opt => \n",
        "def batchGradientDescent(X, y, b0 = 0.5, ALPHA = 0.25, max_it=5000, \n",
        "                         threshold = 1 * pow(10,-4)):\n",
        "  #prepare data\n",
        "  X = X.values\n",
        "  y = y.values\n",
        "  \n",
        "  zm, zn = X.shape\n",
        "  z = np.ones(zm)\n",
        "  z = z.reshape(zm, 1)\n",
        "  X = np.append(z,X,axis=1)\n",
        "\n",
        "  m, n = X.shape\n",
        "  theta = np.zeros(n)\n",
        "  theta = theta.reshape(n,1)\n",
        "  y = y.reshape(-1,1)\n",
        "  diff = 1\n",
        "  j = 0\n",
        "  \n",
        "  while j < max_it and diff > threshold:\n",
        "    last_t = theta\n",
        "    infunc1 = sigmoid(lr_hypothesis(X, theta)) - y\n",
        "    gradient = np.dot(X.T, infunc1) / m\n",
        "    theta = theta - (ALPHA / m) * gradient\n",
        "    diff = np.linalg.norm(last_t-theta)\n",
        "    j+=1\n",
        "  return theta, j"
      ],
      "execution_count": 480,
      "outputs": []
    },
    {
      "cell_type": "code",
      "metadata": {
        "id": "ThCcCBZA3UZ3"
      },
      "source": [
        "#Testing functions\n",
        "\n",
        "#return if classify in 1 or 0.\n",
        "def classify(x):\n",
        "  return int(x > 0.5)\n",
        "\n",
        "#compare data\n",
        "def compare(y_hat, y):\n",
        "  return np.where(y_hat == y, 0, 1)\n",
        "\n",
        "#return error\n",
        "def error(y_hat, y, T):\n",
        "  return 1 / T * sum(compare(y_hat, y))\n",
        "\n",
        "#Apply model with values to predict probability of 1.\n",
        "def predict(model, X):\n",
        "  X = X.values\n",
        "  X = np.insert(X, 0, 1.0)\n",
        "  return sigmoid(np.dot(model.T, X))\n"
      ],
      "execution_count": 481,
      "outputs": []
    },
    {
      "cell_type": "markdown",
      "metadata": {
        "id": "vbZ56mPgyZ2p"
      },
      "source": [
        "## Gender:\n",
        "\n",
        "Gender dataset classify if is Male or Female considering next args:\n",
        "*   Weight\n",
        "*   Height\n",
        "\n",
        "using Batch Gradient Descent\n",
        "\n"
      ]
    },
    {
      "cell_type": "code",
      "metadata": {
        "colab": {
          "base_uri": "https://localhost:8080/"
        },
        "id": "kMIexIIdy4fV",
        "outputId": "bae1bcd9-1d78-44e2-ebd2-21ce0941243a"
      },
      "source": [
        "#read data\n",
        "name_file = input('Give name of the gender case file with (.txt):')\n",
        "gender_data = pd.read_csv(name_file)"
      ],
      "execution_count": 482,
      "outputs": [
        {
          "output_type": "stream",
          "text": [
            "Give name of the gender case file with (.txt):Gender.txt\n"
          ],
          "name": "stdout"
        }
      ]
    },
    {
      "cell_type": "markdown",
      "metadata": {
        "id": "bCTboZl6zS0u"
      },
      "source": [
        "### Exploratory data analysis (gender)"
      ]
    },
    {
      "cell_type": "code",
      "metadata": {
        "colab": {
          "base_uri": "https://localhost:8080/",
          "height": 195
        },
        "id": "I6B4r31mzQAl",
        "outputId": "72750012-f443-4e1f-e25f-f1829222aa97"
      },
      "source": [
        "#inspect randomly data\n",
        "gender_data.sample(n=5)"
      ],
      "execution_count": 483,
      "outputs": [
        {
          "output_type": "execute_result",
          "data": {
            "text/html": [
              "<div>\n",
              "<style scoped>\n",
              "    .dataframe tbody tr th:only-of-type {\n",
              "        vertical-align: middle;\n",
              "    }\n",
              "\n",
              "    .dataframe tbody tr th {\n",
              "        vertical-align: top;\n",
              "    }\n",
              "\n",
              "    .dataframe thead th {\n",
              "        text-align: right;\n",
              "    }\n",
              "</style>\n",
              "<table border=\"1\" class=\"dataframe\">\n",
              "  <thead>\n",
              "    <tr style=\"text-align: right;\">\n",
              "      <th></th>\n",
              "      <th>Gender</th>\n",
              "      <th>Height</th>\n",
              "      <th>Weight</th>\n",
              "    </tr>\n",
              "  </thead>\n",
              "  <tbody>\n",
              "    <tr>\n",
              "      <th>7962</th>\n",
              "      <td>Female</td>\n",
              "      <td>62.867244</td>\n",
              "      <td>161.268395</td>\n",
              "    </tr>\n",
              "    <tr>\n",
              "      <th>8693</th>\n",
              "      <td>Female</td>\n",
              "      <td>64.973919</td>\n",
              "      <td>146.576103</td>\n",
              "    </tr>\n",
              "    <tr>\n",
              "      <th>1575</th>\n",
              "      <td>Male</td>\n",
              "      <td>71.865845</td>\n",
              "      <td>203.488801</td>\n",
              "    </tr>\n",
              "    <tr>\n",
              "      <th>2878</th>\n",
              "      <td>Male</td>\n",
              "      <td>65.513907</td>\n",
              "      <td>162.729848</td>\n",
              "    </tr>\n",
              "    <tr>\n",
              "      <th>9587</th>\n",
              "      <td>Female</td>\n",
              "      <td>60.144261</td>\n",
              "      <td>111.190708</td>\n",
              "    </tr>\n",
              "  </tbody>\n",
              "</table>\n",
              "</div>"
            ],
            "text/plain": [
              "      Gender     Height      Weight\n",
              "7962  Female  62.867244  161.268395\n",
              "8693  Female  64.973919  146.576103\n",
              "1575    Male  71.865845  203.488801\n",
              "2878    Male  65.513907  162.729848\n",
              "9587  Female  60.144261  111.190708"
            ]
          },
          "metadata": {
            "tags": []
          },
          "execution_count": 483
        }
      ]
    },
    {
      "cell_type": "code",
      "metadata": {
        "colab": {
          "base_uri": "https://localhost:8080/",
          "height": 284
        },
        "id": "GJLjwaM5zokM",
        "outputId": "0b68fa5d-cb19-4476-c7fe-c67486c9e4fd"
      },
      "source": [
        "#Describe variables\n",
        "gender_data.describe()"
      ],
      "execution_count": 484,
      "outputs": [
        {
          "output_type": "execute_result",
          "data": {
            "text/html": [
              "<div>\n",
              "<style scoped>\n",
              "    .dataframe tbody tr th:only-of-type {\n",
              "        vertical-align: middle;\n",
              "    }\n",
              "\n",
              "    .dataframe tbody tr th {\n",
              "        vertical-align: top;\n",
              "    }\n",
              "\n",
              "    .dataframe thead th {\n",
              "        text-align: right;\n",
              "    }\n",
              "</style>\n",
              "<table border=\"1\" class=\"dataframe\">\n",
              "  <thead>\n",
              "    <tr style=\"text-align: right;\">\n",
              "      <th></th>\n",
              "      <th>Height</th>\n",
              "      <th>Weight</th>\n",
              "    </tr>\n",
              "  </thead>\n",
              "  <tbody>\n",
              "    <tr>\n",
              "      <th>count</th>\n",
              "      <td>10000.000000</td>\n",
              "      <td>10000.000000</td>\n",
              "    </tr>\n",
              "    <tr>\n",
              "      <th>mean</th>\n",
              "      <td>66.367560</td>\n",
              "      <td>161.440357</td>\n",
              "    </tr>\n",
              "    <tr>\n",
              "      <th>std</th>\n",
              "      <td>3.847528</td>\n",
              "      <td>32.108439</td>\n",
              "    </tr>\n",
              "    <tr>\n",
              "      <th>min</th>\n",
              "      <td>54.263133</td>\n",
              "      <td>64.700127</td>\n",
              "    </tr>\n",
              "    <tr>\n",
              "      <th>25%</th>\n",
              "      <td>63.505620</td>\n",
              "      <td>135.818051</td>\n",
              "    </tr>\n",
              "    <tr>\n",
              "      <th>50%</th>\n",
              "      <td>66.318070</td>\n",
              "      <td>161.212928</td>\n",
              "    </tr>\n",
              "    <tr>\n",
              "      <th>75%</th>\n",
              "      <td>69.174262</td>\n",
              "      <td>187.169525</td>\n",
              "    </tr>\n",
              "    <tr>\n",
              "      <th>max</th>\n",
              "      <td>78.998742</td>\n",
              "      <td>269.989699</td>\n",
              "    </tr>\n",
              "  </tbody>\n",
              "</table>\n",
              "</div>"
            ],
            "text/plain": [
              "             Height        Weight\n",
              "count  10000.000000  10000.000000\n",
              "mean      66.367560    161.440357\n",
              "std        3.847528     32.108439\n",
              "min       54.263133     64.700127\n",
              "25%       63.505620    135.818051\n",
              "50%       66.318070    161.212928\n",
              "75%       69.174262    187.169525\n",
              "max       78.998742    269.989699"
            ]
          },
          "metadata": {
            "tags": []
          },
          "execution_count": 484
        }
      ]
    },
    {
      "cell_type": "code",
      "metadata": {
        "colab": {
          "base_uri": "https://localhost:8080/"
        },
        "id": "QYQ_AqpmzxW5",
        "outputId": "3042a047-7289-456e-e573-cfc3a221ccc1"
      },
      "source": [
        "#Any missed values\n",
        "gender_data.isnull().sum()"
      ],
      "execution_count": 485,
      "outputs": [
        {
          "output_type": "execute_result",
          "data": {
            "text/plain": [
              "Gender    0\n",
              "Height    0\n",
              "Weight    0\n",
              "dtype: int64"
            ]
          },
          "metadata": {
            "tags": []
          },
          "execution_count": 485
        }
      ]
    },
    {
      "cell_type": "markdown",
      "metadata": {
        "id": "GUiMsHWVz82H"
      },
      "source": [
        "### Preprocessing data (gender)"
      ]
    },
    {
      "cell_type": "code",
      "metadata": {
        "colab": {
          "base_uri": "https://localhost:8080/",
          "height": 195
        },
        "id": "-pbp77D30Gye",
        "outputId": "e71de1cd-daec-40a0-832a-d89d106098ae"
      },
      "source": [
        "#Change categorical variable to numerical.\n",
        "gender_data = pd.get_dummies(gender_data, columns=['Gender'])\n",
        "del gender_data['Gender_Male']\n",
        "gender_data.head()"
      ],
      "execution_count": 486,
      "outputs": [
        {
          "output_type": "execute_result",
          "data": {
            "text/html": [
              "<div>\n",
              "<style scoped>\n",
              "    .dataframe tbody tr th:only-of-type {\n",
              "        vertical-align: middle;\n",
              "    }\n",
              "\n",
              "    .dataframe tbody tr th {\n",
              "        vertical-align: top;\n",
              "    }\n",
              "\n",
              "    .dataframe thead th {\n",
              "        text-align: right;\n",
              "    }\n",
              "</style>\n",
              "<table border=\"1\" class=\"dataframe\">\n",
              "  <thead>\n",
              "    <tr style=\"text-align: right;\">\n",
              "      <th></th>\n",
              "      <th>Height</th>\n",
              "      <th>Weight</th>\n",
              "      <th>Gender_Female</th>\n",
              "    </tr>\n",
              "  </thead>\n",
              "  <tbody>\n",
              "    <tr>\n",
              "      <th>0</th>\n",
              "      <td>73.847017</td>\n",
              "      <td>241.893563</td>\n",
              "      <td>0</td>\n",
              "    </tr>\n",
              "    <tr>\n",
              "      <th>1</th>\n",
              "      <td>68.781904</td>\n",
              "      <td>162.310473</td>\n",
              "      <td>0</td>\n",
              "    </tr>\n",
              "    <tr>\n",
              "      <th>2</th>\n",
              "      <td>74.110105</td>\n",
              "      <td>212.740856</td>\n",
              "      <td>0</td>\n",
              "    </tr>\n",
              "    <tr>\n",
              "      <th>3</th>\n",
              "      <td>71.730978</td>\n",
              "      <td>220.042470</td>\n",
              "      <td>0</td>\n",
              "    </tr>\n",
              "    <tr>\n",
              "      <th>4</th>\n",
              "      <td>69.881796</td>\n",
              "      <td>206.349801</td>\n",
              "      <td>0</td>\n",
              "    </tr>\n",
              "  </tbody>\n",
              "</table>\n",
              "</div>"
            ],
            "text/plain": [
              "      Height      Weight  Gender_Female\n",
              "0  73.847017  241.893563              0\n",
              "1  68.781904  162.310473              0\n",
              "2  74.110105  212.740856              0\n",
              "3  71.730978  220.042470              0\n",
              "4  69.881796  206.349801              0"
            ]
          },
          "metadata": {
            "tags": []
          },
          "execution_count": 486
        }
      ]
    },
    {
      "cell_type": "code",
      "metadata": {
        "colab": {
          "base_uri": "https://localhost:8080/"
        },
        "id": "AcrgwALu5oAh",
        "outputId": "3e9bc5ef-8e61-4731-9be2-ff40357cb9f2"
      },
      "source": [
        "# Split in train / test data\n",
        "# X => Gender_Female => (Male=0, Female=1)\n",
        "# y => (Height, Weight) \n",
        "X = gender_data[['Height','Weight']]\n",
        "y = gender_data['Gender_Female']\n",
        "t_size = float(input('Give value of split test size (ex. 0.2): '))\n",
        "rand_num = int(input('Give value of initial random generator: '))\n",
        "X_train, X_test, y_train, y_test = train_test_split(X, y, test_size=t_size, random_state=rand_num)"
      ],
      "execution_count": 487,
      "outputs": [
        {
          "output_type": "stream",
          "text": [
            "Give value of split test size (ex. 0.2): 0.2\n",
            "Give value of initial random generator: 32\n"
          ],
          "name": "stdout"
        }
      ]
    },
    {
      "cell_type": "markdown",
      "metadata": {
        "id": "dPpWfwBR5ile"
      },
      "source": [
        "### Logistic Regression Gender"
      ]
    },
    {
      "cell_type": "code",
      "metadata": {
        "colab": {
          "base_uri": "https://localhost:8080/"
        },
        "id": "mLE8lkWd-8ON",
        "outputId": "cf2341a4-516b-4292-d135-0415396c87b1"
      },
      "source": [
        "#train model\n",
        "#parms:\n",
        "# X => X_train model data\n",
        "# y => y_train model data\n",
        "print('Gender dataset: batch Gradient Descent Algorithm')\n",
        "b_init = float(input('Give value of beta init (0,1): '))\n",
        "ALPHA = float(input('Give value of ALPHA (0,1): '))\n",
        "max_it = int(input('Give value of the limit of iterations: '))\n",
        "threshold = float(input('Give value of threshold (ex. 0.0001): '))\n",
        "model, j = batchGradientDescent(X_train, y_train, b_init, ALPHA, max_it, threshold)\n",
        "print('B vector: ')\n",
        "print(model)\n",
        "print('iterations: ', j)"
      ],
      "execution_count": 488,
      "outputs": [
        {
          "output_type": "stream",
          "text": [
            "Gender dataset: batch Gradient Descent Algorithm\n",
            "Give value of beta init (0,1): 0.5\n",
            "Give value of ALPHA (0,1): 0.5\n",
            "Give value of the limit of iterations: 1000\n",
            "Give value of threshold (ex. 0.0001): 0.0001\n",
            "B vector: \n",
            "[[ 0.00225289]\n",
            " [ 0.10711157]\n",
            " [-0.04505359]]\n",
            "iterations:  788\n"
          ],
          "name": "stdout"
        }
      ]
    },
    {
      "cell_type": "code",
      "metadata": {
        "colab": {
          "base_uri": "https://localhost:8080/"
        },
        "id": "ONRtjHZjZhPu",
        "outputId": "1f303537-8ae8-4473-af24-0b3fbd8686c8"
      },
      "source": [
        "#Test model\n",
        "\n",
        "#predict values\n",
        "y_predicted_value = X_test.apply(lambda x: predict(model, x), axis=1)\n",
        "#Classify values\n",
        "y_predicted = y_predicted_value.apply(classify)\n",
        "#error\n",
        "print('error: ', error(y_predicted, y_test, y_predicted.size))"
      ],
      "execution_count": 489,
      "outputs": [
        {
          "output_type": "stream",
          "text": [
            "error:  0.0925\n"
          ],
          "name": "stdout"
        }
      ]
    },
    {
      "cell_type": "code",
      "metadata": {
        "colab": {
          "base_uri": "https://localhost:8080/",
          "height": 577
        },
        "id": "kT72j6vEceBG",
        "outputId": "e37493b6-0fc1-4312-b166-60ec30224395"
      },
      "source": [
        "#plot height\n",
        "plt.clf()\n",
        "plt.title(\"Height vs preddicted classification (1=Female, 0=Male)\")\n",
        "plt.scatter(X_test['Height'], y_predicted, color='blue', zorder=5, alpha=0.3)\n",
        "plt.scatter(X_test['Height'], y_test, color='red', zorder=2, alpha=0.3)\n",
        "plt.ylabel('y')\n",
        "plt.xlabel('Height')\n",
        "plt.axhline(.5, color='.5')\n",
        "plt.legend(('Classification', 'predicted', 'real'), fontsize='small')\n",
        "plt.tight_layout()\n",
        "plt.show()\n",
        "#plot weight\n",
        "plt.clf()\n",
        "plt.title(\"Weight vs preddicted classification (1=Female, 0=Male)\")\n",
        "plt.scatter(X_test['Weight'], y_predicted, color='blue', zorder=5, alpha=0.3)\n",
        "plt.scatter(X_test['Weight'], y_test, color='red', zorder=2, alpha=0.3)\n",
        "plt.ylabel('y')\n",
        "plt.xlabel('Weight')\n",
        "plt.axhline(.5, color='.5')\n",
        "plt.legend(('Classification', 'predicted', 'real'), fontsize='small')\n",
        "plt.tight_layout()\n",
        "plt.show()"
      ],
      "execution_count": 490,
      "outputs": [
        {
          "output_type": "display_data",
          "data": {
            "image/png": "[encoded data removed]",
            "text/plain": [
              "<Figure size 432x288 with 1 Axes>"
            ]
          },
          "metadata": {
            "tags": [],
            "needs_background": "light"
          }
        },
        {
          "output_type": "display_data",
          "data": {
            "image/png": "[encoded data removed]",
            "text/plain": [
              "<Figure size 432x288 with 1 Axes>"
            ]
          },
          "metadata": {
            "tags": [],
            "needs_background": "light"
          }
        }
      ]
    },
    {
      "cell_type": "code",
      "metadata": {
        "colab": {
          "base_uri": "https://localhost:8080/"
        },
        "id": "4Qsld06fmXk7",
        "outputId": "d8127bf7-4910-4e8a-c99c-a5a503f3e67a"
      },
      "source": [
        "#Logistic Regression with SciKit-Learn\n",
        "model = LogisticRegression()\n",
        "model.fit(X_train, y_train)\n",
        "print(\"coef with SciKit-Learn model:\", model.coef_)\n",
        "print(\"bias with SciKit-Learn model:\", model.intercept_)"
      ],
      "execution_count": 491,
      "outputs": [
        {
          "output_type": "stream",
          "text": [
            "coef with SciKit-Learn model: [[ 0.49056802 -0.20180415]]\n",
            "bias with SciKit-Learn model: [0.01027737]\n"
          ],
          "name": "stdout"
        }
      ]
    },
    {
      "cell_type": "code",
      "metadata": {
        "colab": {
          "base_uri": "https://localhost:8080/"
        },
        "id": "--7ct8nPpZ6x",
        "outputId": "314a2df5-6ded-4ec9-ccc5-e2a0c6d0308e"
      },
      "source": [
        "#error with SciKit-Learn\n",
        "y_hat = model.predict(X_test)\n",
        "print('error with SciKit-Learn model:', error(y_hat, y_test, y_hat.size))"
      ],
      "execution_count": 492,
      "outputs": [
        {
          "output_type": "stream",
          "text": [
            "error with SciKit-Learn model: 0.0835\n"
          ],
          "name": "stdout"
        }
      ]
    },
    {
      "cell_type": "code",
      "metadata": {
        "id": "M8ZPR556w3sx"
      },
      "source": [
        "#Create dateframe and save in file\n",
        "y_predicted=y_predicted.rename('y_predicted')\n",
        "y_test = y_test.rename('y_real')\n",
        "y_predicted_value = y_predicted_value.rename(\"success rate\")\n",
        "df = pd.concat([X_test, y_predicted, y_test, y_predicted_value], axis=1)\n",
        "df.to_csv('results'+name_file[:-4]+\".csv\")"
      ],
      "execution_count": 493,
      "outputs": []
    },
    {
      "cell_type": "markdown",
      "metadata": {
        "id": "xQKVig2fyKiZ"
      },
      "source": [
        "## Credit Card Default:\n",
        "Credit Card Default dataset\n",
        "Identify if the user will pay the credit card considering next parms:\n",
        "\n",
        "* ID: Customer id.\n",
        "* Default: Yes/No if the customer will pay.\n",
        "* Student: Yes/No if the customer is student.\n",
        "* Balance: Average money in the credit card after their monthly pay.\n",
        "* Income: Income of the customer.\n",
        "\n",
        "Using logistic regression."
      ]
    },
    {
      "cell_type": "code",
      "metadata": {
        "id": "-955h9mQpUWG",
        "colab": {
          "base_uri": "https://localhost:8080/"
        },
        "outputId": "8a907f26-3db7-4dff-e2ef-8ee471d73f78"
      },
      "source": [
        "#Import dataset (Need to be in the project directory)\n",
        "#read data\n",
        "name_file = input('Give name of the credit case file with (.txt):')\n",
        "credit_data = pd.read_csv(name_file, sep='\\t')"
      ],
      "execution_count": 494,
      "outputs": [
        {
          "output_type": "stream",
          "text": [
            "Give name of the credit case file with (.txt):Default.txt\n"
          ],
          "name": "stdout"
        }
      ]
    },
    {
      "cell_type": "markdown",
      "metadata": {
        "id": "AZZgzMjwwlGN"
      },
      "source": [
        "### Exploratory data analysis"
      ]
    },
    {
      "cell_type": "code",
      "metadata": {
        "id": "1xsdQAnaqL5k",
        "colab": {
          "base_uri": "https://localhost:8080/",
          "height": 195
        },
        "outputId": "29ef8c78-acdb-4066-bf1b-a23dbf45e18d"
      },
      "source": [
        "#Inspect data\n",
        "credit_data.sample(n=5)"
      ],
      "execution_count": 495,
      "outputs": [
        {
          "output_type": "execute_result",
          "data": {
            "text/html": [
              "<div>\n",
              "<style scoped>\n",
              "    .dataframe tbody tr th:only-of-type {\n",
              "        vertical-align: middle;\n",
              "    }\n",
              "\n",
              "    .dataframe tbody tr th {\n",
              "        vertical-align: top;\n",
              "    }\n",
              "\n",
              "    .dataframe thead th {\n",
              "        text-align: right;\n",
              "    }\n",
              "</style>\n",
              "<table border=\"1\" class=\"dataframe\">\n",
              "  <thead>\n",
              "    <tr style=\"text-align: right;\">\n",
              "      <th></th>\n",
              "      <th>default</th>\n",
              "      <th>student</th>\n",
              "      <th>balance</th>\n",
              "      <th>income</th>\n",
              "    </tr>\n",
              "  </thead>\n",
              "  <tbody>\n",
              "    <tr>\n",
              "      <th>5502</th>\n",
              "      <td>No</td>\n",
              "      <td>No</td>\n",
              "      <td>379.603563</td>\n",
              "      <td>42862.488888</td>\n",
              "    </tr>\n",
              "    <tr>\n",
              "      <th>7490</th>\n",
              "      <td>Yes</td>\n",
              "      <td>Yes</td>\n",
              "      <td>2117.120614</td>\n",
              "      <td>12143.474804</td>\n",
              "    </tr>\n",
              "    <tr>\n",
              "      <th>117</th>\n",
              "      <td>No</td>\n",
              "      <td>No</td>\n",
              "      <td>271.551438</td>\n",
              "      <td>32850.120145</td>\n",
              "    </tr>\n",
              "    <tr>\n",
              "      <th>6083</th>\n",
              "      <td>No</td>\n",
              "      <td>No</td>\n",
              "      <td>867.629483</td>\n",
              "      <td>43091.935988</td>\n",
              "    </tr>\n",
              "    <tr>\n",
              "      <th>8059</th>\n",
              "      <td>No</td>\n",
              "      <td>Yes</td>\n",
              "      <td>1372.978032</td>\n",
              "      <td>10776.444285</td>\n",
              "    </tr>\n",
              "  </tbody>\n",
              "</table>\n",
              "</div>"
            ],
            "text/plain": [
              "     default student      balance        income\n",
              "5502      No      No   379.603563  42862.488888\n",
              "7490     Yes     Yes  2117.120614  12143.474804\n",
              "117       No      No   271.551438  32850.120145\n",
              "6083      No      No   867.629483  43091.935988\n",
              "8059      No     Yes  1372.978032  10776.444285"
            ]
          },
          "metadata": {
            "tags": []
          },
          "execution_count": 495
        }
      ]
    },
    {
      "cell_type": "code",
      "metadata": {
        "id": "86sFKFBcwWQn",
        "colab": {
          "base_uri": "https://localhost:8080/",
          "height": 284
        },
        "outputId": "f8e3a587-a43e-443d-f9e7-b31c9101db82"
      },
      "source": [
        "#Describe data\n",
        "credit_data.describe()"
      ],
      "execution_count": 496,
      "outputs": [
        {
          "output_type": "execute_result",
          "data": {
            "text/html": [
              "<div>\n",
              "<style scoped>\n",
              "    .dataframe tbody tr th:only-of-type {\n",
              "        vertical-align: middle;\n",
              "    }\n",
              "\n",
              "    .dataframe tbody tr th {\n",
              "        vertical-align: top;\n",
              "    }\n",
              "\n",
              "    .dataframe thead th {\n",
              "        text-align: right;\n",
              "    }\n",
              "</style>\n",
              "<table border=\"1\" class=\"dataframe\">\n",
              "  <thead>\n",
              "    <tr style=\"text-align: right;\">\n",
              "      <th></th>\n",
              "      <th>balance</th>\n",
              "      <th>income</th>\n",
              "    </tr>\n",
              "  </thead>\n",
              "  <tbody>\n",
              "    <tr>\n",
              "      <th>count</th>\n",
              "      <td>10000.000000</td>\n",
              "      <td>10000.000000</td>\n",
              "    </tr>\n",
              "    <tr>\n",
              "      <th>mean</th>\n",
              "      <td>835.374886</td>\n",
              "      <td>33516.981876</td>\n",
              "    </tr>\n",
              "    <tr>\n",
              "      <th>std</th>\n",
              "      <td>483.714985</td>\n",
              "      <td>13336.639563</td>\n",
              "    </tr>\n",
              "    <tr>\n",
              "      <th>min</th>\n",
              "      <td>0.000000</td>\n",
              "      <td>771.967729</td>\n",
              "    </tr>\n",
              "    <tr>\n",
              "      <th>25%</th>\n",
              "      <td>481.731105</td>\n",
              "      <td>21340.462903</td>\n",
              "    </tr>\n",
              "    <tr>\n",
              "      <th>50%</th>\n",
              "      <td>823.636973</td>\n",
              "      <td>34552.644802</td>\n",
              "    </tr>\n",
              "    <tr>\n",
              "      <th>75%</th>\n",
              "      <td>1166.308386</td>\n",
              "      <td>43807.729272</td>\n",
              "    </tr>\n",
              "    <tr>\n",
              "      <th>max</th>\n",
              "      <td>2654.322576</td>\n",
              "      <td>73554.233495</td>\n",
              "    </tr>\n",
              "  </tbody>\n",
              "</table>\n",
              "</div>"
            ],
            "text/plain": [
              "            balance        income\n",
              "count  10000.000000  10000.000000\n",
              "mean     835.374886  33516.981876\n",
              "std      483.714985  13336.639563\n",
              "min        0.000000    771.967729\n",
              "25%      481.731105  21340.462903\n",
              "50%      823.636973  34552.644802\n",
              "75%     1166.308386  43807.729272\n",
              "max     2654.322576  73554.233495"
            ]
          },
          "metadata": {
            "tags": []
          },
          "execution_count": 496
        }
      ]
    },
    {
      "cell_type": "code",
      "metadata": {
        "id": "qNr284Vawht1",
        "colab": {
          "base_uri": "https://localhost:8080/"
        },
        "outputId": "130a8ea4-41d5-44c9-d52d-14c9ac542bb1"
      },
      "source": [
        "#Any missed values\n",
        "credit_data.isnull().sum()"
      ],
      "execution_count": 497,
      "outputs": [
        {
          "output_type": "execute_result",
          "data": {
            "text/plain": [
              "default    0\n",
              "student    0\n",
              "balance    0\n",
              "income     0\n",
              "dtype: int64"
            ]
          },
          "metadata": {
            "tags": []
          },
          "execution_count": 497
        }
      ]
    },
    {
      "cell_type": "markdown",
      "metadata": {
        "id": "G_UA4lLiw3XB"
      },
      "source": [
        "### Pre-processing data"
      ]
    },
    {
      "cell_type": "code",
      "metadata": {
        "id": "YslI6zxRIFBi",
        "colab": {
          "base_uri": "https://localhost:8080/",
          "height": 195
        },
        "outputId": "2ad7c6be-2240-4565-e503-16a94b009a6b"
      },
      "source": [
        "#Change categorical variable to numerical.\n",
        "credit_data = pd.get_dummies(credit_data, columns=['student', 'default'])\n",
        "del credit_data['student_No']\n",
        "del credit_data['default_No']\n",
        "credit_data.head()"
      ],
      "execution_count": 498,
      "outputs": [
        {
          "output_type": "execute_result",
          "data": {
            "text/html": [
              "<div>\n",
              "<style scoped>\n",
              "    .dataframe tbody tr th:only-of-type {\n",
              "        vertical-align: middle;\n",
              "    }\n",
              "\n",
              "    .dataframe tbody tr th {\n",
              "        vertical-align: top;\n",
              "    }\n",
              "\n",
              "    .dataframe thead th {\n",
              "        text-align: right;\n",
              "    }\n",
              "</style>\n",
              "<table border=\"1\" class=\"dataframe\">\n",
              "  <thead>\n",
              "    <tr style=\"text-align: right;\">\n",
              "      <th></th>\n",
              "      <th>balance</th>\n",
              "      <th>income</th>\n",
              "      <th>student_Yes</th>\n",
              "      <th>default_Yes</th>\n",
              "    </tr>\n",
              "  </thead>\n",
              "  <tbody>\n",
              "    <tr>\n",
              "      <th>1</th>\n",
              "      <td>729.526495</td>\n",
              "      <td>44361.625074</td>\n",
              "      <td>0</td>\n",
              "      <td>0</td>\n",
              "    </tr>\n",
              "    <tr>\n",
              "      <th>2</th>\n",
              "      <td>817.180407</td>\n",
              "      <td>12106.134700</td>\n",
              "      <td>1</td>\n",
              "      <td>0</td>\n",
              "    </tr>\n",
              "    <tr>\n",
              "      <th>3</th>\n",
              "      <td>1073.549164</td>\n",
              "      <td>31767.138947</td>\n",
              "      <td>0</td>\n",
              "      <td>0</td>\n",
              "    </tr>\n",
              "    <tr>\n",
              "      <th>4</th>\n",
              "      <td>529.250605</td>\n",
              "      <td>35704.493935</td>\n",
              "      <td>0</td>\n",
              "      <td>0</td>\n",
              "    </tr>\n",
              "    <tr>\n",
              "      <th>5</th>\n",
              "      <td>785.655883</td>\n",
              "      <td>38463.495879</td>\n",
              "      <td>0</td>\n",
              "      <td>0</td>\n",
              "    </tr>\n",
              "  </tbody>\n",
              "</table>\n",
              "</div>"
            ],
            "text/plain": [
              "       balance        income  student_Yes  default_Yes\n",
              "1   729.526495  44361.625074            0            0\n",
              "2   817.180407  12106.134700            1            0\n",
              "3  1073.549164  31767.138947            0            0\n",
              "4   529.250605  35704.493935            0            0\n",
              "5   785.655883  38463.495879            0            0"
            ]
          },
          "metadata": {
            "tags": []
          },
          "execution_count": 498
        }
      ]
    },
    {
      "cell_type": "code",
      "metadata": {
        "id": "JUJZnQyXw-39",
        "colab": {
          "base_uri": "https://localhost:8080/"
        },
        "outputId": "f522f515-0b82-4599-b773-6fd7e817320f"
      },
      "source": [
        "# Split in train / test data\n",
        "# X => Gender_Female => (Male=0, Female=1)\n",
        "# y => (Height, Weight) \n",
        "X = credit_data[['student_Yes','balance', 'income']]\n",
        "y = credit_data['default_Yes']\n",
        "t_size = float(input('Give value of split test size (ex. 0.2): '))\n",
        "rand_num = int(input('Give value of initial random generator: '))\n",
        "X_train, X_test, y_train, y_test = train_test_split(X, y, test_size=t_size, random_state=rand_num)"
      ],
      "execution_count": 502,
      "outputs": [
        {
          "output_type": "stream",
          "text": [
            "Give value of split test size (ex. 0.2): 0.2\n",
            "Give value of initial random generator: 42\n"
          ],
          "name": "stdout"
        }
      ]
    },
    {
      "cell_type": "markdown",
      "metadata": {
        "id": "DLvJMirgJDwT"
      },
      "source": [
        "### Logistic Regression: Credit data"
      ]
    },
    {
      "cell_type": "code",
      "metadata": {
        "id": "-cM92OpeJC4l",
        "colab": {
          "base_uri": "https://localhost:8080/"
        },
        "outputId": "59c319ee-99fc-483c-fadd-e396275f2b00"
      },
      "source": [
        "#train model\n",
        "#parms:\n",
        "# X => X_train model data\n",
        "# y => y_train model data\n",
        "print('Credit dataset: batch Gradient Descent Algorithm')\n",
        "b_init = float(input('Give value of beta init (0,1): '))\n",
        "ALPHA = float(input('Give value of ALPHA (0,1): '))\n",
        "max_it = int(input('Give value of the limit of iterations: '))\n",
        "threshold = float(input('Give value of threshold (ex. 0.0001): '))\n",
        "model, j = batchGradientDescent(X_train, y_train, b_init, ALPHA, max_it, threshold)\n",
        "print('B vector: ')\n",
        "print(model)\n",
        "print(\"iterations: \", j)"
      ],
      "execution_count": 504,
      "outputs": [
        {
          "output_type": "stream",
          "text": [
            "Credit dataset: batch Gradient Descent Algorithm\n",
            "Give value of beta init (0,1): 0.5\n",
            "Give value of ALPHA (0,1): 0.5\n",
            "Give value of the limit of iterations: 10000\n",
            "Give value of threshold (ex. 0.0001): 0.0001\n"
          ],
          "name": "stdout"
        },
        {
          "output_type": "stream",
          "text": [
            "/usr/local/lib/python3.7/dist-packages/ipykernel_launcher.py:3: RuntimeWarning: overflow encountered in exp\n",
            "  This is separate from the ipykernel package so we can avoid doing imports until\n"
          ],
          "name": "stderr"
        },
        {
          "output_type": "stream",
          "text": [
            "B vector: \n",
            "[[-0.00818367]\n",
            " [-0.0102958 ]\n",
            " [ 0.52550395]\n",
            " [-0.60748641]]\n",
            "iterations:  10000\n"
          ],
          "name": "stdout"
        }
      ]
    },
    {
      "cell_type": "code",
      "metadata": {
        "id": "qOsBNtceJV8B",
        "colab": {
          "base_uri": "https://localhost:8080/"
        },
        "outputId": "6030d785-1bca-4ebc-ac78-5033d4b60e1a"
      },
      "source": [
        "#Test model\n",
        "\n",
        "#predict values\n",
        "y_predicted_value = X_test.apply(lambda x: predict(model, x), axis=1)\n",
        "#Classify values\n",
        "y_predicted = y_predicted_value.apply(classify)\n",
        "#error\n",
        "print('Error: ', error(y_predicted, y_test, y_predicted.size))"
      ],
      "execution_count": 505,
      "outputs": [
        {
          "output_type": "stream",
          "text": [
            "Error:  0.0345\n"
          ],
          "name": "stdout"
        },
        {
          "output_type": "stream",
          "text": [
            "/usr/local/lib/python3.7/dist-packages/ipykernel_launcher.py:3: RuntimeWarning: overflow encountered in exp\n",
            "  This is separate from the ipykernel package so we can avoid doing imports until\n"
          ],
          "name": "stderr"
        }
      ]
    },
    {
      "cell_type": "code",
      "metadata": {
        "id": "15QNLl_tupi_"
      },
      "source": [
        "#Create dateframe and save in file\n",
        "y_predicted=y_predicted.rename('y_predicted')\n",
        "y_test = y_test.rename('y_real')\n",
        "y_predicted_value = y_predicted_value.rename(\"success rate\")\n",
        "df = pd.concat([X_test, y_predicted, y_test, y_predicted_value], axis=1)\n",
        "df.to_csv('results'+name_file[:-4]+\".csv\")"
      ],
      "execution_count": 506,
      "outputs": []
    }
  ]
}